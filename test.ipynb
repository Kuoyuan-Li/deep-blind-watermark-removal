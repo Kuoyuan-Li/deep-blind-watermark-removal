{
 "cells": [
  {
   "cell_type": "code",
   "execution_count": 1,
   "outputs": [],
   "source": [
    "import os, sys, torch,random\n",
    "import numpy as np\n",
    "from matplotlib import pyplot as plt\n",
    "from matplotlib import cm\n",
    "\n",
    "from scripts.utils.imutils import im_to_numpy\n",
    "import scripts.models as models\n",
    "import scripts.datasets as datasets\n",
    "%matplotlib inline\n",
    "from PIL import Image, ImageChops"
   ],
   "metadata": {
    "collapsed": false,
    "ExecuteTime": {
     "end_time": "2024-03-07T06:40:27.727835Z",
     "start_time": "2024-03-07T06:40:22.754375Z"
    }
   },
   "id": "6f542b35bf14b802"
  },
  {
   "cell_type": "code",
   "execution_count": 2,
   "outputs": [],
   "source": [
    "def get_jet():\n",
    "    colormap_int = np.zeros((256, 3), np.uint8)\n",
    " \n",
    "    for i in range(0, 256, 1):\n",
    "        colormap_int[i, 0] = np.int_(np.round(cm.jet(i)[0] * 255.0))\n",
    "        colormap_int[i, 1] = np.int_(np.round(cm.jet(i)[1] * 255.0))\n",
    "        colormap_int[i, 2] = np.int_(np.round(cm.jet(i)[2] * 255.0))\n",
    "\n",
    "    return colormap_int\n",
    "\n",
    "def clamp(num, min_value, max_value):\n",
    "    return max(min(num, max_value), min_value)\n",
    "\n",
    "def gray2color(gray_array, color_map):\n",
    "    \n",
    "    rows, cols = gray_array.shape\n",
    "    color_array = np.zeros((rows, cols, 3), np.uint8)\n",
    " \n",
    "    for i in range(0, rows):\n",
    "        for j in range(0, cols):\n",
    "#             log(256,2) = 8 , log(1,2) = 0 * 8\n",
    "            color_array[i, j] = color_map[clamp(int(abs(gray_array[i, j])*10),0,255)]\n",
    "    \n",
    "    return color_array\n",
    "# \n",
    "# class objectview(object):\n",
    "#     def __init__(self, *args, **kwargs):\n",
    "#         d = dict(*args, **kwargs)\n",
    "#         self.__dict__ = d\n",
    "\n",
    "jet_map = get_jet()\n",
    "# \n",
    "resume_path = '27kpng_model_best.pth.tar' # path of pretrained model\n",
    "# samples = [320,1364,1868] #random.sample(range(4000), 1) # show random sample \n",
    "# \n",
    "# data_config  = objectview({'input_size':256,\n",
    "#                             'limited_dataset':0,\n",
    "#                             'normalized_input':False,\n",
    "#                             'data_augumentation':False,\n",
    "#                             'base_dir':'.',\n",
    "#                             'data':'_images'})\n",
    "\n",
    "# val_loader = torch.utils.data.DataLoader(datasets.COCO('val',config=data_config,sample=samples))"
   ],
   "metadata": {
    "collapsed": true,
    "ExecuteTime": {
     "end_time": "2024-03-07T06:40:27.763305Z",
     "start_time": "2024-03-07T06:40:27.735068Z"
    }
   },
   "id": "initial_id"
  },
  {
   "cell_type": "code",
   "execution_count": 31,
   "outputs": [
    {
     "ename": "FileNotFoundError",
     "evalue": "[Errno 2] No such file or directory: './scripts'",
     "output_type": "error",
     "traceback": [
      "\u001B[0;31m---------------------------------------------------------------------------\u001B[0m",
      "\u001B[0;31mFileNotFoundError\u001B[0m                         Traceback (most recent call last)",
      "Cell \u001B[0;32mIn[31], line 3\u001B[0m\n\u001B[1;32m      1\u001B[0m \u001B[38;5;28;01mimport\u001B[39;00m \u001B[38;5;21;01mcv2\u001B[39;00m\n\u001B[1;32m      2\u001B[0m image_folder \u001B[38;5;241m=\u001B[39m \u001B[38;5;124m'\u001B[39m\u001B[38;5;124m./scripts\u001B[39m\u001B[38;5;124m'\u001B[39m\n\u001B[0;32m----> 3\u001B[0m image_files \u001B[38;5;241m=\u001B[39m \u001B[43mos\u001B[49m\u001B[38;5;241;43m.\u001B[39;49m\u001B[43mlistdir\u001B[49m\u001B[43m(\u001B[49m\u001B[43mimage_folder\u001B[49m\u001B[43m)\u001B[49m\n\u001B[1;32m      4\u001B[0m image_files \u001B[38;5;241m=\u001B[39m [os\u001B[38;5;241m.\u001B[39mpath\u001B[38;5;241m.\u001B[39mjoin(image_folder, f) \u001B[38;5;28;01mfor\u001B[39;00m f \u001B[38;5;129;01min\u001B[39;00m image_files \u001B[38;5;28;01mif\u001B[39;00m f\u001B[38;5;241m.\u001B[39mendswith(\u001B[38;5;124m'\u001B[39m\u001B[38;5;124m.jpg\u001B[39m\u001B[38;5;124m'\u001B[39m) \u001B[38;5;129;01mor\u001B[39;00m f\u001B[38;5;241m.\u001B[39mendswith(\u001B[38;5;124m'\u001B[39m\u001B[38;5;124m.png\u001B[39m\u001B[38;5;124m'\u001B[39m)]\n\u001B[1;32m      5\u001B[0m \u001B[38;5;28mprint\u001B[39m(image_files)\n",
      "\u001B[0;31mFileNotFoundError\u001B[0m: [Errno 2] No such file or directory: './scripts'"
     ]
    }
   ],
   "source": [
    "import cv2\n",
    "image_folder = './sample_images'\n",
    "images = [cv2.imread(os.path.join(image_folder,im)) for im in os.listdir(image_folder) if im.endswith('.jpg')]"
   ],
   "metadata": {
    "collapsed": false,
    "ExecuteTime": {
     "end_time": "2024-03-07T06:39:02.585617Z",
     "start_time": "2024-03-07T06:39:02.562628Z"
    }
   },
   "id": "71409fe2ef29e1cd"
  },
  {
   "cell_type": "code",
   "execution_count": null,
   "outputs": [],
   "source": [
    "\n",
    "print('input          | target              | coarser            | final')\n",
    "print('----------------------------------------------------------------------------')\n",
    "print('predicted mask | predicted watermark | coarser difference | final difference')\n",
    "\n",
    "with torch.no_grad():\n",
    "\n",
    "      model = models.__dict__['vvv4n']().cuda()\n",
    "      model.load_state_dict(torch.load(resume_path)['state_dict'])\n",
    "      model.eval()\n",
    "      \n",
    "      for im, batches in enumerate(images):\n",
    "          \n",
    "          plt.figure(figsize=(48,12))\n",
    "\n",
    "          # im,mask,target = batches['image'].cuda(),batches['mask'].cuda(),batches['target'].cuda()\n",
    "          # set im to batch\n",
    "          \n",
    "          im = torch.from_numpy(batches).permute(2,0,1).unsqueeze(0).float().cuda()/255.0\n",
    "          \n",
    "          imoutput,immask,imwatermark = model(im)\n",
    "        \n",
    "          imcoarser,imrefine,imwatermark = imoutput[1]*immask + im*(1-immask),imoutput[0]*immask + im*(1-immask),imwatermark*immask\n",
    "\n",
    "          ims1 = im_to_numpy(torch.clamp(torch.cat([im,imcoarser,imrefine],dim=3)[0]*255,min=0.0,max=255.0)).astype(np.uint8)\n",
    "          \n",
    "          imcoarser, imrefine  = im_to_numpy((imcoarser[0]*255)).astype(np.uint8), im_to_numpy((imrefine[0]*255)).astype(np.uint8) # im_to_numpy((target[0]*255)).astype(np.uint8)\n",
    "          immask, imwatermark = im_to_numpy((immask.repeat(1,3,1,1)[0]*255)).astype(np.uint8),im_to_numpy((imwatermark[0]*255)).astype(np.uint8)\n",
    "          # \n",
    "          # coarsenp = gray2color(np.array(ImageChops.difference(Image.fromarray(imcoarser),Image.fromarray(target)).convert('L')),jet_map)\n",
    "          # finenp = gray2color(np.array(ImageChops.difference(Image.fromarray(imrefine),Image.fromarray(target)).convert('L')),jet_map)\n",
    "          \n",
    "          imfinal = np.concatenate([ims1,np.concatenate([immask,imwatermark],axis=1)],axis=0)\n",
    "\n",
    "          plt.imshow(imfinal,vmin=0.0,vmax=255.0)\n"
   ],
   "metadata": {
    "collapsed": false
   },
   "id": "95e67028a8963bb3"
  }
 ],
 "metadata": {
  "kernelspec": {
   "name": "seminalrd",
   "language": "python",
   "display_name": "SeminalRD"
  },
  "language_info": {
   "codemirror_mode": {
    "name": "ipython",
    "version": 2
   },
   "file_extension": ".py",
   "mimetype": "text/x-python",
   "name": "python",
   "nbconvert_exporter": "python",
   "pygments_lexer": "ipython2",
   "version": "2.7.6"
  }
 },
 "nbformat": 4,
 "nbformat_minor": 5
}
